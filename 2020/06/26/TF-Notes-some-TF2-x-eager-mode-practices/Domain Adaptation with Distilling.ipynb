{
 "cells": [
  {
   "cell_type": "markdown",
   "metadata": {},
   "source": [
    "# A Toy Example of Domain Adaptation using Distilling\n",
    "\n",
    "Keywords:\n",
    "1. Domain adaptation with **Distilling**\n",
    "  $$\\text{Gradients}\\left[\\text{XEnt}(q_i,p_i)\\right] \\approx \\text{Gradients}\\left[\\text{MSE}(z_i/T,v_i/T)\\right]$$\n",
    "  - So we use mean square error on logits which are devided by temerature $T$\n",
    "\n",
    "\n",
    "2. A good way to create a Dataset API pipeline [[ref](https://www.tensorflow.org/guide/data_performance?hl=zh_cn)]\n",
    "  - if `map()` has random ops: `dataset.shuffle().batch().cache().map().prefetch()`\n",
    "  - `map()` has NO random ops: `dataset.shuffle().batch().map().cache().prefetch()`\n",
    "\n",
    "\n",
    "3. **Init model with a pre-trained model** (same model structure)\n",
    "\n",
    "\n",
    "4. Freeze some variables during training\n",
    "\n",
    "5. learn how to use `tf.keras.metrics.SparseCategoricalAccuracy`\n",
    "\n",
    "---\n",
    "Suppose we have a model already trained to classify '6' and '9' and the new domain is a upside down world.\n",
    "\n",
    "<img src=\"cover2.png\" width=40% height=40%>\n",
    "\n",
    "How to adapt this model without using labeled data in new domain? So that we can classify the upside down '6' and '9'.\n",
    "\n",
    "\"[Large-Scale Domain Adaptation via Teacher-Student Learning](https://arxiv.org/abs/1708.05466)\" provides a possible and simple way\n",
    "\n",
    "The algorithm architecture is below:\n",
    "<img src=\"TS-paper-fig1.png\" width=40% height=40%>\n",
    "\n",
    "We will show that using parallel data (unsupervised) and distilling, we can adapt model to classify the upside-down '6' and '9'"
   ]
  },
  {
   "cell_type": "code",
   "execution_count": 1,
   "metadata": {},
   "outputs": [],
   "source": [
    "import tensorflow as tf\n",
    "from tensorflow.keras.layers import Dense, Flatten, Conv2D, MaxPool2D, Dropout, BatchNormalization\n",
    "from tensorflow.keras import Model\n",
    "%matplotlib inline\n",
    "import numpy as np\n",
    "import seaborn as sns\n",
    "import matplotlib.pyplot as plt\n",
    "from matplotlib import pylab\n",
    "import pickle, time"
   ]
  },
  {
   "cell_type": "markdown",
   "metadata": {},
   "source": [
    "## A. Data loading"
   ]
  },
  {
   "cell_type": "code",
   "execution_count": 2,
   "metadata": {},
   "outputs": [
    {
     "name": "stdout",
     "output_type": "stream",
     "text": [
      "x_adpt.shape =  (60000, 28, 28, 1) ; min =  -0.5 ; max =  0.5\n",
      "x_mnist_train.shape =  (11867, 28, 28, 1) ; min =  -0.5 ; max =  0.5\n",
      "x_mnist_test.shape =  (1967, 28, 28, 1) ; min =  -0.5 ; max =  0.5\n"
     ]
    }
   ],
   "source": [
    "# fashionMnist\n",
    "fmnist = tf.keras.datasets.fashion_mnist\n",
    "(x_fmnist, y_fmnist), _ = fmnist.load_data()\n",
    "x_fmnist = x_fmnist[...,tf.newaxis]/255.0 - 0.5\n",
    "# Mnist, we only care about '6' and '9' (label 0 and 1)\n",
    "mnist = tf.keras.datasets.mnist\n",
    "(x_mnist_train, y_mnist_train), (x_mnist_test, y_mnist_test) = mnist.load_data()\n",
    "x_mnist_train = x_mnist_train[...,tf.newaxis]/255.0 - 0.5\n",
    "x_mnist_test = x_mnist_test[...,tf.newaxis]/255.0 - 0.5\n",
    "\n",
    "# prepare unsupervised training data for domain adaptation\n",
    "x_adpt = x_fmnist\n",
    "\n",
    "# prepare mnist (only '6' and '9')\n",
    "x_mnist_train, y_mnist_train = zip(*[(x,y) for x,y in zip(x_mnist_train, y_mnist_train) if (y==6 or y==9)])\n",
    "x_mnist_test, y_mnist_test = zip(*[(x,y) for x,y in zip(x_mnist_test, y_mnist_test) if (y==6 or y==9)])\n",
    "x_mnist_train, y_mnist_train = np.array(x_mnist_train, dtype=np.float32), np.array(y_mnist_train, dtype=np.int)\n",
    "x_mnist_test, y_mnist_test = np.array(x_mnist_test, dtype=np.float32), np.array(y_mnist_test, dtype=np.int)\n",
    "y_mnist_train[y_mnist_train==6], y_mnist_train[y_mnist_train==9] = 0, 1\n",
    "y_mnist_test[y_mnist_test==6], y_mnist_test[y_mnist_test==9] = 0, 1\n",
    "\n",
    "print(\"x_adpt.shape = \",x_adpt.shape,\"; min = \",np.min(x_adpt),\"; max = \",np.max(x_adpt))\n",
    "print(\"x_mnist_train.shape = \",x_mnist_train.shape,\"; min = \",np.min(x_mnist_train),\"; max = \",np.max(x_mnist_train))\n",
    "print(\"x_mnist_test.shape = \",x_mnist_test.shape,\"; min = \",np.min(x_mnist_test),\"; max = \",np.max(x_mnist_test))"
   ]
  },
  {
   "cell_type": "code",
   "execution_count": 3,
   "metadata": {},
   "outputs": [],
   "source": [
    "_, h, w, c = x_mnist_train.shape\n",
    "\n",
    "train_mnist_ds = tf.data.Dataset.from_tensor_slices((x_mnist_train, y_mnist_train)).shuffle(10000).batch(32).prefetch(tf.data.experimental.AUTOTUNE)\n",
    "test_mnist_ds = tf.data.Dataset.from_tensor_slices((x_mnist_test, y_mnist_test)).batch(32).prefetch(tf.data.experimental.AUTOTUNE)"
   ]
  },
  {
   "cell_type": "markdown",
   "metadata": {},
   "source": [
    "## B. Base model structure used in teacher/student"
   ]
  },
  {
   "cell_type": "code",
   "execution_count": 4,
   "metadata": {},
   "outputs": [],
   "source": [
    "class BaseModel(Model):\n",
    "    def __init__(self):\n",
    "        super(BaseModel, self).__init__()\n",
    "        self.conv1 = Conv2D(8, 3, padding='valid', activation=None)\n",
    "        self.bn1 = BatchNormalization()\n",
    "        self.pool1 = MaxPool2D(pool_size=(2, 2), padding='valid')\n",
    "        self.conv2 = Conv2D(16, 3, padding='valid', activation=None)\n",
    "        self.bn2 = BatchNormalization()\n",
    "        self.pool2 = MaxPool2D(pool_size=(2, 2), padding='valid')\n",
    "        self.flatten = Flatten()\n",
    "        self.logit = Dense(2, activation=None)\n",
    "    def call(self, x):\n",
    "        x = tf.nn.relu(self.bn1(self.conv1(x)))\n",
    "        x = self.pool1(x)\n",
    "        x = tf.nn.relu(self.bn2(self.conv2(x)))\n",
    "        x = self.pool2(x)\n",
    "        x = self.flatten(x)\n",
    "        logit = self.logit(x)\n",
    "        print('shape logit = ',logit.shape)\n",
    "        return logit"
   ]
  },
  {
   "cell_type": "markdown",
   "metadata": {},
   "source": [
    "## C. Train a 6/9 teacher classifier"
   ]
  },
  {
   "cell_type": "code",
   "execution_count": 5,
   "metadata": {},
   "outputs": [],
   "source": [
    "teacherModel = BaseModel()\n",
    "\n",
    "loss_object = tf.keras.losses.SparseCategoricalCrossentropy(from_logits=True)\n",
    "optimizer = tf.keras.optimizers.Adam()\n",
    "\n",
    "train_loss = tf.keras.metrics.Mean(name='train_loss')\n",
    "train_accuracy = tf.keras.metrics.SparseCategoricalAccuracy(name='train_accuracy')\n",
    "\n",
    "test_loss = tf.keras.metrics.Mean(name='test_loss')\n",
    "test_accuracy = tf.keras.metrics.SparseCategoricalAccuracy(name='test_accuracy')"
   ]
  },
  {
   "cell_type": "code",
   "execution_count": 6,
   "metadata": {},
   "outputs": [],
   "source": [
    "@tf.function\n",
    "def train_step(images, labels):\n",
    "    with tf.GradientTape() as tape:\n",
    "        # training=True is only needed if there are layers with different\n",
    "        # behavior during training versus inference (e.g. Dropout).\n",
    "        logits = teacherModel(images, training=True)\n",
    "        preds = tf.nn.softmax(logits=logits)\n",
    "        loss = loss_object(labels, logits)\n",
    "    gradients = tape.gradient(loss, teacherModel.trainable_variables)\n",
    "    optimizer.apply_gradients(zip(gradients, teacherModel.trainable_variables))\n",
    "    train_loss(loss)\n",
    "    train_accuracy(labels, preds)\n",
    "\n",
    "@tf.function\n",
    "def test_step(images, labels):\n",
    "    # training=False is only needed if there are layers with different\n",
    "    # behavior during training versus inference (e.g. Dropout).\n",
    "    logits = teacherModel(images, training=False)\n",
    "    preds = tf.nn.softmax(logits=logits)\n",
    "    t_loss = loss_object(labels, logits)\n",
    "\n",
    "    test_loss(t_loss)\n",
    "    test_accuracy(labels, preds)\n"
   ]
  },
  {
   "cell_type": "code",
   "execution_count": 7,
   "metadata": {},
   "outputs": [
    {
     "name": "stdout",
     "output_type": "stream",
     "text": [
      "shape logit =  (32, 2)\n",
      "shape logit =  (32, 2)\n",
      "shape logit =  (27, 2)\n",
      "shape logit =  (32, 2)\n",
      "shape logit =  (15, 2)\n",
      "Epoch 1, Test Loss: 0.030756661668419838, Test Acc: 99.74580383300781%\n",
      "Epoch 2, Test Loss: 0.005977654829621315, Test Acc: 99.79664611816406%\n",
      "Epoch 3, Test Loss: 0.003669269150123, Test Acc: 99.84748077392578%\n",
      "Epoch 4, Test Loss: 0.002764563774690032, Test Acc: 99.94916534423828%\n",
      "Epoch 5, Test Loss: 0.003377247368916869, Test Acc: 99.84748077392578%\n"
     ]
    }
   ],
   "source": [
    "EPOCHS = 5\n",
    "for epoch in range(EPOCHS):\n",
    "    # Reset the metrics at the start of the next epoch\n",
    "    train_loss.reset_states()\n",
    "    train_accuracy.reset_states()\n",
    "    test_loss.reset_states()\n",
    "    test_accuracy.reset_states()\n",
    "    for images, labels in train_mnist_ds:\n",
    "        train_step(images,labels)\n",
    "    for test_images, test_labels in test_mnist_ds:\n",
    "        test_step(test_images, test_labels)\n",
    "    \n",
    "    template = 'Epoch {}, Test Loss: {}, Test Acc: {}%'\n",
    "    print(template.format(epoch+1, test_loss.result(), test_accuracy.result()*100))"
   ]
  },
  {
   "cell_type": "markdown",
   "metadata": {},
   "source": [
    "## D. Build student model which is initialized with teacher model"
   ]
  },
  {
   "cell_type": "code",
   "execution_count": 8,
   "metadata": {},
   "outputs": [
    {
     "name": "stdout",
     "output_type": "stream",
     "text": [
      "Number of Variables in studentModel =  0\n",
      "shape logit =  (None, 2)\n",
      "Number of Variables in studentModel =  14\n"
     ]
    }
   ],
   "source": [
    "studentModel = BaseModel()\n",
    "print('Number of Variables in studentModel = ',len(studentModel.weights))\n",
    "# should call build manually (this will allocate memory of graph)\n",
    "studentModel.build((None,)+(h,w,c))\n",
    "print('Number of Variables in studentModel = ',len(studentModel.weights))"
   ]
  },
  {
   "cell_type": "code",
   "execution_count": 9,
   "metadata": {},
   "outputs": [],
   "source": [
    "for tlayer, slayer in zip(teacherModel.layers, studentModel.layers):\n",
    "    slayer.set_weights(tlayer.get_weights())\n",
    "\n",
    "# Check weights are copied correctly\n",
    "wdiff = 0.0\n",
    "for tweights, sweights in zip(teacherModel.weights, studentModel.weights):\n",
    "    wdiff += np.sum(np.abs(tweights - sweights))\n",
    "assert(wdiff==0.0)\n",
    "\n",
    "tweight_before_distilling = np.copy(teacherModel.weights[-1])"
   ]
  },
  {
   "cell_type": "markdown",
   "metadata": {},
   "source": [
    "## E. Build a *paraellel dataset*"
   ]
  },
  {
   "cell_type": "code",
   "execution_count": 10,
   "metadata": {},
   "outputs": [],
   "source": [
    "# https://tf.wiki/zh/basic/tools.html#tf-data\n",
    "def _create_parallel(img):\n",
    "    return img, tf.image.flip_up_down(img)\n",
    "\n",
    "adpt_ds = tf.data.Dataset.from_tensor_slices(x_adpt)\n",
    "adpt_ds = adpt_ds.shuffle(10000).batch(32).map(map_func=_create_parallel, num_parallel_calls=tf.data.experimental.AUTOTUNE)\n",
    "adpt_ds = adpt_ds.cache().prefetch(tf.data.experimental.AUTOTUNE)"
   ]
  },
  {
   "cell_type": "code",
   "execution_count": 11,
   "metadata": {},
   "outputs": [
    {
     "data": {
      "text/plain": [
       "<matplotlib.image.AxesImage at 0x1819ac26c88>"
      ]
     },
     "execution_count": 11,
     "metadata": {},
     "output_type": "execute_result"
    },
    {
     "data": {
      "image/png": "[encoded data removed]",
      "text/plain": [
       "<Figure size 432x288 with 2 Axes>"
      ]
     },
     "metadata": {
      "needs_background": "light"
     },
     "output_type": "display_data"
    }
   ],
   "source": [
    "imgs, imgs_flip = next(adpt_ds.as_numpy_iterator())\n",
    "plt.subplot(1,2,1)\n",
    "plt.imshow(imgs[0,:,:,0], cmap='gray')\n",
    "plt.title('Original Domain')\n",
    "plt.subplot(1,2,2)\n",
    "plt.title('New Domain (flip)')\n",
    "plt.imshow(imgs_flip[0,:,:,0], cmap='gray')"
   ]
  },
  {
   "cell_type": "markdown",
   "metadata": {},
   "source": [
    "## F. Define distilling loss\n",
    "Let a softmax with an input argument $T$ (called *temperature*) defined as:\n",
    "\n",
    "$$\n",
    "softmax(i,T)=\\frac{\\exp{\\left(z_i/T\\right)}}{\\sum_j{\\exp{\\left(z_j/T\\right)}}}\n",
    "$$\n",
    "\n",
    "Using a **higher value for $T$ produces a softer probability distribution** over classes ($T=1$ is original softmax)\n",
    "\n",
    "- Teacher models: $v_i \\begin{array}{cc} \\\\\\overrightarrow{softmax(T)}\\end{array} p_i$\n",
    "\n",
    "- Student models: $z_i \\begin{array}{cc} \\\\\\overrightarrow{softmax(T)}\\end{array} q_i$\n",
    "\n",
    "$\\text{Gradients}\\left[\\text{XEnt}(q_i,p_i)\\right] \\approx \\text{Gradients}\\left[\\text{MSE}(z_i/T,v_i/T)\\right]$ under following assumptions:\n",
    "\n",
    "> 1. If the temperature is high compared with the magnitude of the logits\n",
    "> 2. original logits have mean $0$, i.e. $\\sum{z_i}=\\sum{v_i}=0$\n",
    "\n",
    "More details in Hinton's paper [[Distilling the Knowledge in a Neural Network](https://arxiv.org/abs/1503.02531)]\n",
    "> - To derive eq (2) in the paper, need to know how to derive the softmax and cross-entorpy.\n",
    "> - See good ref: [[Derivative of Cross Entropy Loss with Softmax](https://deepnotes.io/softmax-crossentropy#derivative-of-cross-entropy-loss-with-softmax)])\n"
   ]
  },
  {
   "cell_type": "code",
   "execution_count": 12,
   "metadata": {},
   "outputs": [],
   "source": [
    "distil_loss_object = tf.keras.losses.MeanSquaredError()\n",
    "distil_optimizer = tf.keras.optimizers.Adam()\n",
    "distil_train_loss = tf.keras.metrics.Mean(name='distil_train_loss')"
   ]
  },
  {
   "cell_type": "code",
   "execution_count": 13,
   "metadata": {},
   "outputs": [],
   "source": [
    "temperature = 5\n",
    "@tf.function\n",
    "def distil_train_step(images, images_flip):\n",
    "    tlogits = teacherModel(images, training=False)\n",
    "    with tf.GradientTape() as tape:\n",
    "        # training=True is only needed if there are layers with different\n",
    "        # behavior during training versus inference (e.g. Dropout).\n",
    "        slogits = studentModel(images_flip, training=True)\n",
    "        # Temperature in distilling\n",
    "        tsloss = distil_loss_object(y_true=tlogits/temperature, y_pred=slogits/temperature)\n",
    "    gradients = tape.gradient(tsloss, studentModel.trainable_variables)\n",
    "    distil_optimizer.apply_gradients(zip(gradients, studentModel.trainable_variables))\n",
    "    distil_train_loss(tsloss)"
   ]
  },
  {
   "cell_type": "markdown",
   "metadata": {},
   "source": [
    "## G. Domain Adaptation Training\n",
    "Let student model can classify flipped '6' and '9' **without using labeled flipped '6' and '9' data** to train."
   ]
  },
  {
   "cell_type": "code",
   "execution_count": 14,
   "metadata": {},
   "outputs": [
    {
     "name": "stdout",
     "output_type": "stream",
     "text": [
      "WARNING:tensorflow:Layer base_model is casting an input tensor from dtype float64 to the layer's dtype of float32, which is new behavior in TensorFlow 2.  The layer has dtype float32 because it's dtype defaults to floatx.\n",
      "\n",
      "If you intended to run this layer in float32, you can safely ignore this warning. If in doubt, this warning is likely only an issue if you are porting a TensorFlow 1.X model to TensorFlow 2.\n",
      "\n",
      "To change all layers to have dtype float64 by default, call `tf.keras.backend.set_floatx('float64')`. To change just this layer, pass dtype='float64' to the layer constructor. If you are the author of this layer, you can disable autocasting by passing autocast=False to the base Layer constructor.\n",
      "\n",
      "shape logit =  (32, 2)\n",
      "WARNING:tensorflow:Layer base_model_1 is casting an input tensor from dtype float64 to the layer's dtype of float32, which is new behavior in TensorFlow 2.  The layer has dtype float32 because it's dtype defaults to floatx.\n",
      "\n",
      "If you intended to run this layer in float32, you can safely ignore this warning. If in doubt, this warning is likely only an issue if you are porting a TensorFlow 1.X model to TensorFlow 2.\n",
      "\n",
      "To change all layers to have dtype float64 by default, call `tf.keras.backend.set_floatx('float64')`. To change just this layer, pass dtype='float64' to the layer constructor. If you are the author of this layer, you can disable autocasting by passing autocast=False to the base Layer constructor.\n",
      "\n",
      "shape logit =  (32, 2)\n",
      "shape logit =  (32, 2)\n",
      "shape logit =  (32, 2)\n",
      "Epoch 1, Loss: 0.022356396540999413\n",
      "Epoch 2, Loss: 0.010322055779397488\n",
      "Epoch 3, Loss: 0.00885069277137518\n",
      "Epoch 4, Loss: 0.00812004879117012\n",
      "Epoch 5, Loss: 0.007662517484277487\n",
      "total time per epoch =  4.9831531799999995\n"
     ]
    }
   ],
   "source": [
    "EPOCHS = 5\n",
    "stime = time.perf_counter()\n",
    "for epoch in range(EPOCHS):\n",
    "    # Reset the metrics at the start of the next epoch\n",
    "    distil_train_loss.reset_states()\n",
    "    for imgs, imgs_flip in adpt_ds:\n",
    "        distil_train_step(imgs, imgs_flip)\n",
    "    \n",
    "    template = 'Epoch {}, Loss: {}'\n",
    "    print(template.format(epoch+1, distil_train_loss.result()))\n",
    "print('total time per epoch = ',(time.perf_counter()-stime)/EPOCHS)"
   ]
  },
  {
   "cell_type": "code",
   "execution_count": 15,
   "metadata": {},
   "outputs": [],
   "source": [
    "student_test_accuracy = tf.keras.metrics.SparseCategoricalAccuracy(name='student_test_accuracy')\n",
    "@tf.function\n",
    "def student_test_step(images, labels):\n",
    "    # training=False is only needed if there are layers with different\n",
    "    # behavior during training versus inference (e.g. Dropout).\n",
    "    logits = studentModel(images, training=False)\n",
    "    preds = tf.nn.softmax(logits=logits)\n",
    "    student_test_accuracy(labels, preds)"
   ]
  },
  {
   "cell_type": "markdown",
   "metadata": {},
   "source": [
    "---\n",
    "\n",
    "### Test student model in *ORIGINAL* domain\n",
    "\n",
    "If accuracy is below 50%, then student model doesn't apply well in original domain"
   ]
  },
  {
   "cell_type": "code",
   "execution_count": 16,
   "metadata": {},
   "outputs": [
    {
     "name": "stdout",
     "output_type": "stream",
     "text": [
      "shape logit =  (32, 2)\n",
      "shape logit =  (15, 2)\n",
      "StudentModel's Acc in original domain: 11.082867622375488%\n",
      "TeacherModel's Acc in original domain: 99.84748077392578%\n"
     ]
    }
   ],
   "source": [
    "student_test_accuracy.reset_states()\n",
    "for test_images, test_labels in test_mnist_ds:\n",
    "    student_test_step(test_images, test_labels)\n",
    "print('StudentModel\\'s Acc in original domain: {}%'.format(student_test_accuracy.result()*100))\n",
    "\n",
    "test_accuracy.reset_states()\n",
    "for test_images, test_labels in test_mnist_ds:\n",
    "    test_step(test_images, test_labels)\n",
    "print('TeacherModel\\'s Acc in original domain: {}%'.format(test_accuracy.result()*100))"
   ]
  },
  {
   "cell_type": "markdown",
   "metadata": {},
   "source": [
    "---\n",
    "\n",
    "### Test student model in *NEW* domain (flip image upside down)\n",
    "\n",
    "If accuracy is approximating 100%, then student model apply well in new domain\n",
    "> successfully adapt model to new domain with **unsupervised** manner"
   ]
  },
  {
   "cell_type": "code",
   "execution_count": 17,
   "metadata": {},
   "outputs": [
    {
     "name": "stdout",
     "output_type": "stream",
     "text": [
      "StudentModel's Acc in new domain: 99.84748077392578%\n",
      "TeacherModel's Acc in new domain: 0.0%\n"
     ]
    }
   ],
   "source": [
    "student_test_accuracy.reset_states()\n",
    "for test_images, test_labels in test_mnist_ds:\n",
    "    _, imgs_flip = _create_parallel(test_images)\n",
    "    student_test_step(imgs_flip, test_labels)\n",
    "print('StudentModel\\'s Acc in new domain: {}%'.format(student_test_accuracy.result()*100))\n",
    "\n",
    "test_accuracy.reset_states()\n",
    "for test_images, test_labels in test_mnist_ds:\n",
    "    _, imgs_flip = _create_parallel(test_images)\n",
    "    student_test_step(imgs_flip, test_labels)\n",
    "print('TeacherModel\\'s Acc in new domain: {}%'.format(test_accuracy.result()*100))"
   ]
  },
  {
   "cell_type": "markdown",
   "metadata": {},
   "source": [
    "Check teacher model is intanct"
   ]
  },
  {
   "cell_type": "code",
   "execution_count": 18,
   "metadata": {},
   "outputs": [],
   "source": [
    "# print(tweight_before_distilling)\n",
    "tweight_after_distilling = np.copy(teacherModel.weights[-1])\n",
    "# print(tweight_after_distilling)\n",
    "assert(np.sum(np.abs(tweight_after_distilling-tweight_before_distilling))==0)"
   ]
  }
 ],
 "metadata": {
  "kernelspec": {
   "display_name": "Python 3",
   "language": "python",
   "name": "python3"
  },
  "language_info": {
   "codemirror_mode": {
    "name": "ipython",
    "version": 3
   },
   "file_extension": ".py",
   "mimetype": "text/x-python",
   "name": "python",
   "nbconvert_exporter": "python",
   "pygments_lexer": "ipython3",
   "version": "3.7.7"
  }
 },
 "nbformat": 4,
 "nbformat_minor": 4
}
